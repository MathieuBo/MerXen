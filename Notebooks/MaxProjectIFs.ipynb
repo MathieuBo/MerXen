{
 "cells": [
  {
   "cell_type": "code",
   "execution_count": 1,
   "id": "6e76ac82-fdc2-45d3-abad-30e82ccfefe0",
   "metadata": {},
   "outputs": [],
   "source": [
    "import numpy as np"
   ]
  },
  {
   "cell_type": "code",
   "execution_count": 6,
   "id": "3c8735db-2993-4e35-8b07-ab1852a02d90",
   "metadata": {},
   "outputs": [],
   "source": [
    "a = np.random.randint(0, high=100, size=(4,4))"
   ]
  },
  {
   "cell_type": "code",
   "execution_count": 8,
   "id": "d31ed268-c627-4e13-a864-778b55e6c507",
   "metadata": {},
   "outputs": [],
   "source": [
    "b = np.random.randint(0, high=100, size=(4,4))"
   ]
  },
  {
   "cell_type": "code",
   "execution_count": 9,
   "id": "6ca53e3b-12e7-45d0-88b1-106e97b4bcd5",
   "metadata": {},
   "outputs": [
    {
     "data": {
      "text/plain": [
       "array([[ 8, 31, 89, 25],\n",
       "       [36, 25, 87, 76],\n",
       "       [98, 27, 20,  2],\n",
       "       [58, 40, 59,  3]])"
      ]
     },
     "execution_count": 9,
     "metadata": {},
     "output_type": "execute_result"
    }
   ],
   "source": [
    "a"
   ]
  },
  {
   "cell_type": "code",
   "execution_count": 10,
   "id": "50d7991e-c442-453e-bb5a-63e637f6cca0",
   "metadata": {},
   "outputs": [
    {
     "data": {
      "text/plain": [
       "array([[65,  2, 18, 87],\n",
       "       [ 5, 75, 59, 12],\n",
       "       [73, 24,  5, 77],\n",
       "       [61,  6, 17, 51]])"
      ]
     },
     "execution_count": 10,
     "metadata": {},
     "output_type": "execute_result"
    }
   ],
   "source": [
    "b"
   ]
  },
  {
   "cell_type": "code",
   "execution_count": 19,
   "id": "c05bace9-2975-4a4e-aaa0-193697e8edf4",
   "metadata": {},
   "outputs": [
    {
     "data": {
      "text/plain": [
       "array([[65, 31, 89, 87],\n",
       "       [36, 75, 87, 76],\n",
       "       [98, 27, 20, 77],\n",
       "       [61, 40, 59, 51]])"
      ]
     },
     "execution_count": 19,
     "metadata": {},
     "output_type": "execute_result"
    }
   ],
   "source": [
    "np.stack([a, b], axis=0).max(axis=0)"
   ]
  },
  {
   "cell_type": "code",
   "execution_count": null,
   "id": "56c139e2-808c-4ce8-a2cf-fa4bba9b5ab8",
   "metadata": {},
   "outputs": [],
   "source": []
  }
 ],
 "metadata": {
  "kernelspec": {
   "display_name": "sopa",
   "language": "python",
   "name": "sopa"
  },
  "language_info": {
   "codemirror_mode": {
    "name": "ipython",
    "version": 3
   },
   "file_extension": ".py",
   "mimetype": "text/x-python",
   "name": "python",
   "nbconvert_exporter": "python",
   "pygments_lexer": "ipython3",
   "version": "3.10.18"
  }
 },
 "nbformat": 4,
 "nbformat_minor": 5
}
